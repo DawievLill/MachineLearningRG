{
 "cells": [
  {
   "cell_type": "markdown",
   "metadata": {},
   "source": [
    "### Question 1"
   ]
  },
  {
   "cell_type": "code",
   "execution_count": 1,
   "metadata": {},
   "outputs": [
    {
     "data": {
      "text/plain": [
       "a_plus_abs_b (generic function with 1 method)"
      ]
     },
     "execution_count": 1,
     "metadata": {},
     "output_type": "execute_result"
    }
   ],
   "source": [
    "function a_plus_abs_b(a, b)\n",
    "\n",
    "    if b < 0\n",
    "        f = (a, b) -> a + -b\n",
    "    else\n",
    "        f = (a, b) -> a + b\n",
    "    return f(a, b)\n",
    "\n",
    "    end\n",
    "end"
   ]
  }
 ],
 "metadata": {
  "kernelspec": {
   "display_name": "Julia 1.7.3",
   "language": "julia",
   "name": "julia-1.7"
  },
  "language_info": {
   "file_extension": ".jl",
   "mimetype": "application/julia",
   "name": "julia",
   "version": "1.7.3"
  },
  "orig_nbformat": 4,
  "vscode": {
   "interpreter": {
    "hash": "3534e56b5f7674c7f54f75dcd0541e0b51235c64dc11a85278cf0037175923d7"
   }
  }
 },
 "nbformat": 4,
 "nbformat_minor": 2
}
