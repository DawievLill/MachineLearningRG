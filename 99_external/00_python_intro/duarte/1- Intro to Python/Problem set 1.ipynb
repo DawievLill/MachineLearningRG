{
 "cells": [
  {
   "cell_type": "markdown",
   "metadata": {},
   "source": [
    "## Problem Set 1\n",
    "\n",
    "### Intro to Python"
   ]
  },
  {
   "cell_type": "markdown",
   "metadata": {},
   "source": [
    "Do the following exercises from Week 1 lecture notebooks:\n",
    "\n",
    "- Lists: 3.13, 3.14\n",
    "- If statements: 4.2, 4.3\n",
    "- Numpy: 10.1\n",
    "- Matplotlib: 11.1, 11.2, 11.3"
   ]
  },
  {
   "cell_type": "markdown",
   "metadata": {},
   "source": [
    "In addition, do the following exercises:"
   ]
  },
  {
   "cell_type": "markdown",
   "metadata": {},
   "source": [
    "1. Create a Cobb-Douglas function $Y = A K^\\alpha L^{1-\\alpha}$ that take labor and capital as inputs, and let $A=0.5$ and $\\alpha = 0.3$. \n",
    "\n",
    "    1. Modify the function so that the parameters A and alpha are given as arguments. \n",
    "    2. Specify default arguments: A=0.5 and alpha=0.3.\n",
    "    3. Evaluate the output function for K=100 and L=10 with parameters at their default value.\n",
    "    4. Create a vector of capital with 100 elements from 0 to 100. What is the production at each level of capital given L=10? (Do it by vector operation and with a loop)\n",
    "    5. Create a vector of labor with 100 elements from 0 to 100. Now, compute ouput for each combination of capital and labor and save the resulting matrix.\n",
    "    6. For which combinations of labor and capital do we get output larger than 20? Plot them.\n",
    "    7. Plot output as a function of capital (use same vector as in D.) with fixed L=10. "
   ]
  },
  {
   "cell_type": "markdown",
   "metadata": {},
   "source": [
    "2. Create a CES class. $Y = A (a K^\\rho + (1-a) L^\\rho)^{\\frac{\\nu}{\\rho}}$\n",
    "\n",
    "    1. Create the initial attributes of this class with $\\rho = 1$, $A=0.5$, $a=0.3$, $\\nu=1$. \n",
    "    2. Create the output method and the elasticy of substitution attribute, $\\sigma$, which is given by  $\\frac{1}{1-\\rho}$.\n",
    "    3. Create the marginal productivity of capital and labor methods.\n",
    "    4. Create the average productivity method.\n",
    "    5. Create the marginal rate of technical substitution method.\n",
    "    6. Create a plot method that shows the 3D plots of output, MPK, MPL and MRTS in the same figure with 2x2 subplots using the domain $[1,10]$ for both capital and labor.\n",
    "    7. Save the CES class you created in a .py file\n",
    "    8. Load the class, and create a list of 10 CES objects, each having a different $\\rho$ value. The first one having $\\rho=0.5$ and the reamining increments of 0.25 (0.5, 0.75, 1, ...). \n",
    "    9. For each CES object evaluate the production, MPL, MPK and MRTS for each object."
   ]
  }
 ],
 "metadata": {
  "kernelspec": {
   "display_name": "Python 3",
   "language": "python",
   "name": "python3"
  },
  "language_info": {
   "codemirror_mode": {
    "name": "ipython",
    "version": 3
   },
   "file_extension": ".py",
   "mimetype": "text/x-python",
   "name": "python",
   "nbconvert_exporter": "python",
   "pygments_lexer": "ipython3",
   "version": "3.8.3"
  },
  "varInspector": {
   "cols": {
    "lenName": 16,
    "lenType": 16,
    "lenVar": 40
   },
   "kernels_config": {
    "python": {
     "delete_cmd_postfix": "",
     "delete_cmd_prefix": "del ",
     "library": "var_list.py",
     "varRefreshCmd": "print(var_dic_list())"
    },
    "r": {
     "delete_cmd_postfix": ") ",
     "delete_cmd_prefix": "rm(",
     "library": "var_list.r",
     "varRefreshCmd": "cat(var_dic_list()) "
    }
   },
   "types_to_exclude": [
    "module",
    "function",
    "builtin_function_or_method",
    "instance",
    "_Feature"
   ],
   "window_display": false
  }
 },
 "nbformat": 4,
 "nbformat_minor": 4
}