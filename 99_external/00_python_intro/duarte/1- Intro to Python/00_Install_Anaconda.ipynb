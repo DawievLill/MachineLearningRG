{
 "cells": [
  {
   "cell_type": "markdown",
   "metadata": {},
   "source": [
    "# Installing Anaconda\n",
    "\n",
    "For new users, I highly recommend installing Anaconda. Anaconda conveniently installs Python, the Jupyter Notebook and Spyder, and other commonly used packages for scientific computing and data science.\n",
    "\n",
    "Use the following installation steps:\n",
    "\n",
    "1. Download [Anaconda](https://www.anaconda.com/download). We recommend downloading Anaconda’s latest Python 3 version (currently Python 3.5).\n",
    "\n",
    "2. Install the version of Anaconda which you downloaded, following the instructions on the download page."
   ]
  },
  {
   "cell_type": "markdown",
   "metadata": {},
   "source": [
    "---"
   ]
  },
  {
   "cell_type": "markdown",
   "metadata": {},
   "source": [
    "# Open Jupyter Notebook Lectures\n",
    "\n",
    "\n",
    "1. Go to https://github.com/jbduarte/Advanced_Macro and download the lectures into your local directory.\n",
    "2. Open a terminal and type `jupyter lab`. This should open your web browser with your local directory.\n",
    "3. Now navigate in the jupyter directory to the lectures notebooks you have downloaded in step 1.\n",
    "4. Open the desired notebook."
   ]
  }
 ],
 "metadata": {
  "kernelspec": {
   "display_name": "Python 3",
   "language": "python",
   "name": "python3"
  },
  "language_info": {
   "codemirror_mode": {
    "name": "ipython",
    "version": 3
   },
   "file_extension": ".py",
   "mimetype": "text/x-python",
   "name": "python",
   "nbconvert_exporter": "python",
   "pygments_lexer": "ipython3",
   "version": "3.8.3"
  },
  "varInspector": {
   "cols": {
    "lenName": 16,
    "lenType": 16,
    "lenVar": 40
   },
   "kernels_config": {
    "python": {
     "delete_cmd_postfix": "",
     "delete_cmd_prefix": "del ",
     "library": "var_list.py",
     "varRefreshCmd": "print(var_dic_list())"
    },
    "r": {
     "delete_cmd_postfix": ") ",
     "delete_cmd_prefix": "rm(",
     "library": "var_list.r",
     "varRefreshCmd": "cat(var_dic_list()) "
    }
   },
   "types_to_exclude": [
    "module",
    "function",
    "builtin_function_or_method",
    "instance",
    "_Feature"
   ],
   "window_display": false
  }
 },
 "nbformat": 4,
 "nbformat_minor": 4
}
